{
 "metadata": {
  "name": ""
 },
 "nbformat": 3,
 "nbformat_minor": 0,
 "worksheets": [
  {
   "cells": [
    {
     "cell_type": "markdown",
     "metadata": {},
     "source": [
      "# IPython and Pandas for Data Analysis\n",
      "\n",
      "IPython is a web based shell which enables convenient drafting, presenting, and sharing of data analysis \"notebooks\". The current version is Jupyter, which may be downloaded and installed from http://jupyter.org/\n",
      "\n",
      "The purpose of *this notebook* is to walk through the basics of manipulating, analyzing, and presenting data in python. Notebooks are organized into \"cells\", which either present markdown text (such as this cell you are reading), or run executable code such as below. \n",
      "\n",
      "**Let's load the main libraries for data analysis.**"
     ]
    },
    {
     "cell_type": "code",
     "collapsed": false,
     "input": [
      "import pandas as pd #high performance data analysis\n",
      "import matplotlib.pyplot as plt #plotting and visualization\n",
      "plt.style.use('fivethirtyeight') #nicer chart style\n",
      "\n",
      "#display plots in the page\n",
      "%matplotlib inline"
     ],
     "language": "python",
     "metadata": {},
     "outputs": [],
     "prompt_number": 294
    },
    {
     "cell_type": "markdown",
     "metadata": {},
     "source": [
      "Pandas, ( http://pandas.pydata.org/ ) is a powerful data analysis library. Structures called DataFrames expose a variety of useful high-performancy data manipulation and analysis functions. \n",
      "\n",
      "**Let's load simple python dictionary data into a Pandas DataFrame, and display it.**"
     ]
    },
    {
     "cell_type": "code",
     "collapsed": false,
     "input": [
      "D = {'orange': 1, 'apple': 2, 'pear': 3} #dict object\n",
      "df = pd.DataFrame([D1]) #load into dataframe\n",
      "df #display it"
     ],
     "language": "python",
     "metadata": {},
     "outputs": [
      {
       "html": [
        "<div style=\"max-width:1500px;overflow:auto;\">\n",
        "<table border=\"1\" class=\"dataframe\">\n",
        "  <thead>\n",
        "    <tr style=\"text-align: right;\">\n",
        "      <th></th>\n",
        "      <th>apple</th>\n",
        "      <th>orange</th>\n",
        "      <th>pear</th>\n",
        "    </tr>\n",
        "  </thead>\n",
        "  <tbody>\n",
        "    <tr>\n",
        "      <th>0</th>\n",
        "      <td>2</td>\n",
        "      <td>1</td>\n",
        "      <td>3</td>\n",
        "    </tr>\n",
        "  </tbody>\n",
        "</table>\n",
        "</div>"
       ],
       "metadata": {},
       "output_type": "pyout",
       "prompt_number": 295,
       "text": [
        "   apple  orange  pear\n",
        "0      2       1     3"
       ]
      }
     ],
     "prompt_number": 295
    },
    {
     "cell_type": "markdown",
     "metadata": {},
     "source": [
      "###Plotting data is simple.\n",
      "\n",
      "See more examples at http://matplotlib.org/gallery.html and http://pandas.pydata.org/pandas-docs/stable/visualization.html"
     ]
    },
    {
     "cell_type": "code",
     "collapsed": false,
     "input": [
      "df.plot(kind='bar', title='Just a sample chart')\n",
      "\n",
      "plt.show()"
     ],
     "language": "python",
     "metadata": {},
     "outputs": [
      {
       "metadata": {},
       "output_type": "display_data",
       "png": "[encoded data removed]",
       "text": [
        "<matplotlib.figure.Figure at 0x7fa0a7a54850>"
       ]
      }
     ],
     "prompt_number": 296
    },
    {
     "cell_type": "markdown",
     "metadata": {},
     "source": [
      "**Append or concatenate data.**"
     ]
    },
    {
     "cell_type": "code",
     "collapsed": false,
     "input": [
      "D2 = {'pear': 4, 'orange': 5, 'apple': 6}\n",
      "df2 = pd.DataFrame([D2])\n",
      "\n",
      "dfa = df.append([df2], ignore_index=True)\n",
      "dfa"
     ],
     "language": "python",
     "metadata": {},
     "outputs": [
      {
       "html": [
        "<div style=\"max-width:1500px;overflow:auto;\">\n",
        "<table border=\"1\" class=\"dataframe\">\n",
        "  <thead>\n",
        "    <tr style=\"text-align: right;\">\n",
        "      <th></th>\n",
        "      <th>apple</th>\n",
        "      <th>orange</th>\n",
        "      <th>pear</th>\n",
        "    </tr>\n",
        "  </thead>\n",
        "  <tbody>\n",
        "    <tr>\n",
        "      <th>0</th>\n",
        "      <td>2</td>\n",
        "      <td>1</td>\n",
        "      <td>3</td>\n",
        "    </tr>\n",
        "    <tr>\n",
        "      <th>1</th>\n",
        "      <td>6</td>\n",
        "      <td>5</td>\n",
        "      <td>4</td>\n",
        "    </tr>\n",
        "  </tbody>\n",
        "</table>\n",
        "</div>"
       ],
       "metadata": {},
       "output_type": "pyout",
       "prompt_number": 297,
       "text": [
        "   apple  orange  pear\n",
        "0      2       1     3\n",
        "1      6       5     4"
       ]
      }
     ],
     "prompt_number": 297
    },
    {
     "cell_type": "markdown",
     "metadata": {},
     "source": [
      "**Transpose and name columns**"
     ]
    },
    {
     "cell_type": "code",
     "collapsed": false,
     "input": [
      "dft = dfa.transpose()\n",
      "dft.columns = ['bucket1','bucket2']\n",
      "dft"
     ],
     "language": "python",
     "metadata": {},
     "outputs": [
      {
       "html": [
        "<div style=\"max-width:1500px;overflow:auto;\">\n",
        "<table border=\"1\" class=\"dataframe\">\n",
        "  <thead>\n",
        "    <tr style=\"text-align: right;\">\n",
        "      <th></th>\n",
        "      <th>bucket1</th>\n",
        "      <th>bucket2</th>\n",
        "    </tr>\n",
        "  </thead>\n",
        "  <tbody>\n",
        "    <tr>\n",
        "      <th>apple</th>\n",
        "      <td>2</td>\n",
        "      <td>6</td>\n",
        "    </tr>\n",
        "    <tr>\n",
        "      <th>orange</th>\n",
        "      <td>1</td>\n",
        "      <td>5</td>\n",
        "    </tr>\n",
        "    <tr>\n",
        "      <th>pear</th>\n",
        "      <td>3</td>\n",
        "      <td>4</td>\n",
        "    </tr>\n",
        "  </tbody>\n",
        "</table>\n",
        "</div>"
       ],
       "metadata": {},
       "output_type": "pyout",
       "prompt_number": 298,
       "text": [
        "        bucket1  bucket2\n",
        "apple         2        6\n",
        "orange        1        5\n",
        "pear          3        4"
       ]
      }
     ],
     "prompt_number": 298
    },
    {
     "cell_type": "markdown",
     "metadata": {},
     "source": [
      "**Filter data**"
     ]
    },
    {
     "cell_type": "code",
     "collapsed": false,
     "input": [
      "df3 = dft[(dft.bucket1 > 1)]\n",
      "\n",
      "df3"
     ],
     "language": "python",
     "metadata": {},
     "outputs": [
      {
       "html": [
        "<div style=\"max-width:1500px;overflow:auto;\">\n",
        "<table border=\"1\" class=\"dataframe\">\n",
        "  <thead>\n",
        "    <tr style=\"text-align: right;\">\n",
        "      <th></th>\n",
        "      <th>bucket1</th>\n",
        "      <th>bucket2</th>\n",
        "    </tr>\n",
        "  </thead>\n",
        "  <tbody>\n",
        "    <tr>\n",
        "      <th>apple</th>\n",
        "      <td>2</td>\n",
        "      <td>6</td>\n",
        "    </tr>\n",
        "    <tr>\n",
        "      <th>pear</th>\n",
        "      <td>3</td>\n",
        "      <td>4</td>\n",
        "    </tr>\n",
        "  </tbody>\n",
        "</table>\n",
        "</div>"
       ],
       "metadata": {},
       "output_type": "pyout",
       "prompt_number": 299,
       "text": [
        "       bucket1  bucket2\n",
        "apple        2        6\n",
        "pear         3        4"
       ]
      }
     ],
     "prompt_number": 299
    },
    {
     "cell_type": "markdown",
     "metadata": {},
     "source": [
      "**Merge/join data**"
     ]
    },
    {
     "cell_type": "code",
     "collapsed": false,
     "input": [
      "M = [{'fruit': 'apple', 'yummy': True}, {'fruit': 'pear', 'yummy': False}]\n",
      "dfm = pd.DataFrame(M)\n",
      "dfm"
     ],
     "language": "python",
     "metadata": {},
     "outputs": [
      {
       "html": [
        "<div style=\"max-width:1500px;overflow:auto;\">\n",
        "<table border=\"1\" class=\"dataframe\">\n",
        "  <thead>\n",
        "    <tr style=\"text-align: right;\">\n",
        "      <th></th>\n",
        "      <th>fruit</th>\n",
        "      <th>yummy</th>\n",
        "    </tr>\n",
        "  </thead>\n",
        "  <tbody>\n",
        "    <tr>\n",
        "      <th>0</th>\n",
        "      <td>apple</td>\n",
        "      <td>True</td>\n",
        "    </tr>\n",
        "    <tr>\n",
        "      <th>1</th>\n",
        "      <td>pear</td>\n",
        "      <td>False</td>\n",
        "    </tr>\n",
        "  </tbody>\n",
        "</table>\n",
        "</div>"
       ],
       "metadata": {},
       "output_type": "pyout",
       "prompt_number": 300,
       "text": [
        "   fruit  yummy\n",
        "0  apple   True\n",
        "1   pear  False"
       ]
      }
     ],
     "prompt_number": 300
    },
    {
     "cell_type": "code",
     "collapsed": false,
     "input": [
      "dfm1 = pd.merge(df3, dfm, how='left', left_index=True, right_on='fruit')\n",
      "dfm1"
     ],
     "language": "python",
     "metadata": {},
     "outputs": [
      {
       "html": [
        "<div style=\"max-width:1500px;overflow:auto;\">\n",
        "<table border=\"1\" class=\"dataframe\">\n",
        "  <thead>\n",
        "    <tr style=\"text-align: right;\">\n",
        "      <th></th>\n",
        "      <th>bucket1</th>\n",
        "      <th>bucket2</th>\n",
        "      <th>fruit</th>\n",
        "      <th>yummy</th>\n",
        "    </tr>\n",
        "  </thead>\n",
        "  <tbody>\n",
        "    <tr>\n",
        "      <th>0</th>\n",
        "      <td>2</td>\n",
        "      <td>6</td>\n",
        "      <td>apple</td>\n",
        "      <td>True</td>\n",
        "    </tr>\n",
        "    <tr>\n",
        "      <th>1</th>\n",
        "      <td>3</td>\n",
        "      <td>4</td>\n",
        "      <td>pear</td>\n",
        "      <td>False</td>\n",
        "    </tr>\n",
        "  </tbody>\n",
        "</table>\n",
        "</div>"
       ],
       "metadata": {},
       "output_type": "pyout",
       "prompt_number": 301,
       "text": [
        "   bucket1  bucket2  fruit  yummy\n",
        "0        2        6  apple   True\n",
        "1        3        4   pear  False"
       ]
      }
     ],
     "prompt_number": 301
    },
    {
     "cell_type": "markdown",
     "metadata": {},
     "source": [
      "**Stats can be run.** E.g. sum(), mean(), count(), etc. \n",
      "*Axis 0 is by columns, Axis 1 is by rows.*\n",
      "\n",
      "See http://pandas.pydata.org/pandas-docs/version/0.17.0/api.html#api-dataframe-stats "
     ]
    },
    {
     "cell_type": "code",
     "collapsed": false,
     "input": [
      "dfm1['total'] = dfm1[['bucket1','bucket2']].mean(axis=1)\n",
      "dfm1"
     ],
     "language": "python",
     "metadata": {},
     "outputs": [
      {
       "html": [
        "<div style=\"max-width:1500px;overflow:auto;\">\n",
        "<table border=\"1\" class=\"dataframe\">\n",
        "  <thead>\n",
        "    <tr style=\"text-align: right;\">\n",
        "      <th></th>\n",
        "      <th>bucket1</th>\n",
        "      <th>bucket2</th>\n",
        "      <th>fruit</th>\n",
        "      <th>yummy</th>\n",
        "      <th>total</th>\n",
        "    </tr>\n",
        "  </thead>\n",
        "  <tbody>\n",
        "    <tr>\n",
        "      <th>0</th>\n",
        "      <td>2</td>\n",
        "      <td>6</td>\n",
        "      <td>apple</td>\n",
        "      <td>True</td>\n",
        "      <td>4.0</td>\n",
        "    </tr>\n",
        "    <tr>\n",
        "      <th>1</th>\n",
        "      <td>3</td>\n",
        "      <td>4</td>\n",
        "      <td>pear</td>\n",
        "      <td>False</td>\n",
        "      <td>3.5</td>\n",
        "    </tr>\n",
        "  </tbody>\n",
        "</table>\n",
        "</div>"
       ],
       "metadata": {},
       "output_type": "pyout",
       "prompt_number": 302,
       "text": [
        "   bucket1  bucket2  fruit  yummy  total\n",
        "0        2        6  apple   True    4.0\n",
        "1        3        4   pear  False    3.5"
       ]
      }
     ],
     "prompt_number": 302
    },
    {
     "cell_type": "markdown",
     "metadata": {},
     "source": [
      "**Dropping columns**"
     ]
    },
    {
     "cell_type": "code",
     "collapsed": false,
     "input": [
      "dfd = dfm1[['fruit','yummy','total']]\n",
      "dfd"
     ],
     "language": "python",
     "metadata": {},
     "outputs": [
      {
       "html": [
        "<div style=\"max-width:1500px;overflow:auto;\">\n",
        "<table border=\"1\" class=\"dataframe\">\n",
        "  <thead>\n",
        "    <tr style=\"text-align: right;\">\n",
        "      <th></th>\n",
        "      <th>fruit</th>\n",
        "      <th>yummy</th>\n",
        "      <th>total</th>\n",
        "    </tr>\n",
        "  </thead>\n",
        "  <tbody>\n",
        "    <tr>\n",
        "      <th>0</th>\n",
        "      <td>apple</td>\n",
        "      <td>True</td>\n",
        "      <td>4.0</td>\n",
        "    </tr>\n",
        "    <tr>\n",
        "      <th>1</th>\n",
        "      <td>pear</td>\n",
        "      <td>False</td>\n",
        "      <td>3.5</td>\n",
        "    </tr>\n",
        "  </tbody>\n",
        "</table>\n",
        "</div>"
       ],
       "metadata": {},
       "output_type": "pyout",
       "prompt_number": 303,
       "text": [
        "   fruit  yummy  total\n",
        "0  apple   True    4.0\n",
        "1   pear  False    3.5"
       ]
      }
     ],
     "prompt_number": 303
    },
    {
     "cell_type": "markdown",
     "metadata": {},
     "source": [
      "*Let's load more fruit...*"
     ]
    },
    {
     "cell_type": "code",
     "collapsed": false,
     "input": [
      "D3 = [{'fruit': 'strawberry', 'yummy': True, 'total': 9}, {'fruit': 'lemon', 'yummy': False, 'total': 11}]\n",
      "\n",
      "dfm = dfd.append(pd.DataFrame(D3), ignore_index=True)\n",
      "dfm"
     ],
     "language": "python",
     "metadata": {},
     "outputs": [
      {
       "html": [
        "<div style=\"max-width:1500px;overflow:auto;\">\n",
        "<table border=\"1\" class=\"dataframe\">\n",
        "  <thead>\n",
        "    <tr style=\"text-align: right;\">\n",
        "      <th></th>\n",
        "      <th>fruit</th>\n",
        "      <th>total</th>\n",
        "      <th>yummy</th>\n",
        "    </tr>\n",
        "  </thead>\n",
        "  <tbody>\n",
        "    <tr>\n",
        "      <th>0</th>\n",
        "      <td>apple</td>\n",
        "      <td>4.0</td>\n",
        "      <td>True</td>\n",
        "    </tr>\n",
        "    <tr>\n",
        "      <th>1</th>\n",
        "      <td>pear</td>\n",
        "      <td>3.5</td>\n",
        "      <td>False</td>\n",
        "    </tr>\n",
        "    <tr>\n",
        "      <th>2</th>\n",
        "      <td>strawberry</td>\n",
        "      <td>9.0</td>\n",
        "      <td>True</td>\n",
        "    </tr>\n",
        "    <tr>\n",
        "      <th>3</th>\n",
        "      <td>lemon</td>\n",
        "      <td>11.0</td>\n",
        "      <td>False</td>\n",
        "    </tr>\n",
        "  </tbody>\n",
        "</table>\n",
        "</div>"
       ],
       "metadata": {},
       "output_type": "pyout",
       "prompt_number": 304,
       "text": [
        "        fruit  total  yummy\n",
        "0       apple    4.0   True\n",
        "1        pear    3.5  False\n",
        "2  strawberry    9.0   True\n",
        "3       lemon   11.0  False"
       ]
      }
     ],
     "prompt_number": 304
    },
    {
     "cell_type": "markdown",
     "metadata": {},
     "source": [
      "**Apply a function across rows**\n",
      "\n",
      "Learn about map, reduce, and lambda in python http://www.python-course.eu/lambda.php"
     ]
    },
    {
     "cell_type": "code",
     "collapsed": false,
     "input": [
      "dfc = dfm\n",
      "dfc['value'] = dfc.apply(lambda x: x.total*2 if x.yummy else x.total/2, axis=1)\n",
      "dfc"
     ],
     "language": "python",
     "metadata": {},
     "outputs": [
      {
       "html": [
        "<div style=\"max-width:1500px;overflow:auto;\">\n",
        "<table border=\"1\" class=\"dataframe\">\n",
        "  <thead>\n",
        "    <tr style=\"text-align: right;\">\n",
        "      <th></th>\n",
        "      <th>fruit</th>\n",
        "      <th>total</th>\n",
        "      <th>yummy</th>\n",
        "      <th>value</th>\n",
        "    </tr>\n",
        "  </thead>\n",
        "  <tbody>\n",
        "    <tr>\n",
        "      <th>0</th>\n",
        "      <td>apple</td>\n",
        "      <td>4.0</td>\n",
        "      <td>True</td>\n",
        "      <td>8.00</td>\n",
        "    </tr>\n",
        "    <tr>\n",
        "      <th>1</th>\n",
        "      <td>pear</td>\n",
        "      <td>3.5</td>\n",
        "      <td>False</td>\n",
        "      <td>1.75</td>\n",
        "    </tr>\n",
        "    <tr>\n",
        "      <th>2</th>\n",
        "      <td>strawberry</td>\n",
        "      <td>9.0</td>\n",
        "      <td>True</td>\n",
        "      <td>18.00</td>\n",
        "    </tr>\n",
        "    <tr>\n",
        "      <th>3</th>\n",
        "      <td>lemon</td>\n",
        "      <td>11.0</td>\n",
        "      <td>False</td>\n",
        "      <td>5.50</td>\n",
        "    </tr>\n",
        "  </tbody>\n",
        "</table>\n",
        "</div>"
       ],
       "metadata": {},
       "output_type": "pyout",
       "prompt_number": 305,
       "text": [
        "        fruit  total  yummy  value\n",
        "0       apple    4.0   True   8.00\n",
        "1        pear    3.5  False   1.75\n",
        "2  strawberry    9.0   True  18.00\n",
        "3       lemon   11.0  False   5.50"
       ]
      }
     ],
     "prompt_number": 305
    },
    {
     "cell_type": "markdown",
     "metadata": {},
     "source": [
      "**Group by a column**\n",
      "\n",
      "http://pandas.pydata.org/pandas-docs/version/0.17.0/api.html#function-application-groupby"
     ]
    },
    {
     "cell_type": "code",
     "collapsed": false,
     "input": [
      "dfg = dfc.groupby(['yummy']).value.sum().reset_index()\n",
      "dfg"
     ],
     "language": "python",
     "metadata": {},
     "outputs": [
      {
       "html": [
        "<div style=\"max-width:1500px;overflow:auto;\">\n",
        "<table border=\"1\" class=\"dataframe\">\n",
        "  <thead>\n",
        "    <tr style=\"text-align: right;\">\n",
        "      <th></th>\n",
        "      <th>yummy</th>\n",
        "      <th>value</th>\n",
        "    </tr>\n",
        "  </thead>\n",
        "  <tbody>\n",
        "    <tr>\n",
        "      <th>0</th>\n",
        "      <td>False</td>\n",
        "      <td>7.25</td>\n",
        "    </tr>\n",
        "    <tr>\n",
        "      <th>1</th>\n",
        "      <td>True</td>\n",
        "      <td>26.00</td>\n",
        "    </tr>\n",
        "  </tbody>\n",
        "</table>\n",
        "</div>"
       ],
       "metadata": {},
       "output_type": "pyout",
       "prompt_number": 306,
       "text": [
        "   yummy  value\n",
        "0  False   7.25\n",
        "1   True  26.00"
       ]
      }
     ],
     "prompt_number": 306
    },
    {
     "cell_type": "markdown",
     "metadata": {},
     "source": [
      "### That's just scratching the surface.\n",
      "\n",
      "Load your actual data using ```read_csv()``` or ```read_sql()``` and enjoy!"
     ]
    }
   ],
   "metadata": {}
  }
 ]
}